{
 "cells": [
  {
   "cell_type": "markdown",
   "metadata": {
    "id": "WlFS_v7TpRHe"
   },
   "source": [
    "# Homework 3: Pytorch and CNNs\n",
    "\n",
    "In this homework, you will begin exploring Pytorch, a neural network library that will be used throughout the remainder of the semester.  This homework will focus on implementing a bag-of-words logistic regression and a convolutional neural networks.\n",
    "\n"
   ]
  },
  {
   "cell_type": "code",
   "execution_count": 3,
   "metadata": {
    "id": "wyY0yl1Jpf2o"
   },
   "outputs": [],
   "source": [
    "import numpy as np\n",
    "import nltk\n",
    "import matplotlib.pyplot as plt\n",
    "import torch\n",
    "import torch.nn as nn\n",
    "import nltk\n",
    "from collections import Counter\n",
    "\n",
    "#Sets random seeds for reproducibility\n",
    "seed=159259\n",
    "np.random.seed(seed)\n",
    "torch.manual_seed(seed)\n",
    "torch.cuda.manual_seed(seed)\n",
    "torch.backends.cudnn.deterministic = True"
   ]
  },
  {
   "cell_type": "code",
   "execution_count": 4,
   "metadata": {
    "colab": {
     "base_uri": "https://localhost:8080/"
    },
    "id": "s7DVjxeq_-OF",
    "outputId": "e0f4269b-6793-49e1-8de7-2dd54cadabc7"
   },
   "outputs": [
    {
     "name": "stdout",
     "output_type": "stream",
     "text": [
      "/usr/lib/python3.7/runpy.py:125: RuntimeWarning: 'nltk.downloader' found in sys.modules after import of package 'nltk', but prior to execution of 'nltk.downloader'; this may result in unpredictable behaviour\n",
      "  warn(RuntimeWarning(msg))\n",
      "[nltk_data] Downloading package punkt to /root/nltk_data...\n",
      "[nltk_data]   Unzipping tokenizers/punkt.zip.\n"
     ]
    }
   ],
   "source": [
    "!python -m nltk.downloader punkt"
   ]
  },
  {
   "cell_type": "markdown",
   "metadata": {
    "id": "jlYfHZwlQXA_"
   },
   "source": [
    "When looking up pytorch documentation, it may be useful to know which version of torch you are running.\n"
   ]
  },
  {
   "cell_type": "code",
   "execution_count": 5,
   "metadata": {
    "colab": {
     "base_uri": "https://localhost:8080/"
    },
    "id": "qUdEHON5lybF",
    "outputId": "952b97e3-1df4-4562-fcdd-e46ae3c00d98"
   },
   "outputs": [
    {
     "name": "stdout",
     "output_type": "stream",
     "text": [
      "1.10.0+cu111\n"
     ]
    }
   ],
   "source": [
    "print(torch.__version__)"
   ]
  },
  {
   "cell_type": "markdown",
   "metadata": {
    "id": "8xrbyc1flKp_"
   },
   "source": [
    "# **IMPORTANT**: GPU is not enabled by default\n",
    "\n",
    "You must switch runtime environments if your output of the next block of code has an error saying \"ValueError: Expected a cuda device, but got: cpu\"\n",
    "\n",
    "Go to Runtime > Change runtime type > Hardware accelerator > GPU"
   ]
  },
  {
   "cell_type": "code",
   "execution_count": 6,
   "metadata": {
    "colab": {
     "base_uri": "https://localhost:8080/"
    },
    "id": "mRy4VWrvkCP6",
    "outputId": "b58a2c38-f567-431c-ad45-1c3c1d9706bf"
   },
   "outputs": [
    {
     "name": "stdout",
     "output_type": "stream",
     "text": [
      "Running on <torch.cuda.device object at 0x7f484e077c50>\n"
     ]
    }
   ],
   "source": [
    "device = torch.cuda.device(\"cuda\" if torch.cuda.is_available() else \"cpu\")\n",
    "print(\"Running on {}\".format(device))"
   ]
  },
  {
   "cell_type": "markdown",
   "metadata": {
    "id": "XyARzkPKmUlR"
   },
   "source": [
    "# Data Processing\n",
    "\n",
    "Let's begin by loading our datasets and the 50-dimensional GLoVE word embeddings.  "
   ]
  },
  {
   "cell_type": "code",
   "execution_count": 7,
   "metadata": {
    "colab": {
     "base_uri": "https://localhost:8080/"
    },
    "id": "l_ZZQsGwH5vj",
    "outputId": "1e64f9d7-e723-41de-d796-9c902f39f04f"
   },
   "outputs": [
    {
     "name": "stdout",
     "output_type": "stream",
     "text": [
      "--2022-02-06 18:37:45--  https://raw.githubusercontent.com/dbamman/nlp22/main/HW3/train.txt\n",
      "Resolving raw.githubusercontent.com (raw.githubusercontent.com)... 185.199.108.133, 185.199.109.133, 185.199.110.133, ...\n",
      "Connecting to raw.githubusercontent.com (raw.githubusercontent.com)|185.199.108.133|:443... connected.\n",
      "HTTP request sent, awaiting response... 200 OK\n",
      "Length: 6645801 (6.3M) [text/plain]\n",
      "Saving to: ‘train.txt’\n",
      "\n",
      "train.txt           100%[===================>]   6.34M  --.-KB/s    in 0.02s   \n",
      "\n",
      "2022-02-06 18:37:45 (311 MB/s) - ‘train.txt’ saved [6645801/6645801]\n",
      "\n",
      "--2022-02-06 18:37:45--  https://raw.githubusercontent.com/dbamman/nlp22/main/HW3/dev.txt\n",
      "Resolving raw.githubusercontent.com (raw.githubusercontent.com)... 185.199.109.133, 185.199.108.133, 185.199.111.133, ...\n",
      "Connecting to raw.githubusercontent.com (raw.githubusercontent.com)|185.199.109.133|:443... connected.\n",
      "HTTP request sent, awaiting response... 200 OK\n",
      "Length: 1309909 (1.2M) [text/plain]\n",
      "Saving to: ‘dev.txt’\n",
      "\n",
      "dev.txt             100%[===================>]   1.25M  --.-KB/s    in 0.006s  \n",
      "\n",
      "2022-02-06 18:37:45 (203 MB/s) - ‘dev.txt’ saved [1309909/1309909]\n",
      "\n",
      "--2022-02-06 18:37:45--  https://raw.githubusercontent.com/dbamman/nlp22/main/HW3/glove.6B.50d.50K.txt\n",
      "Resolving raw.githubusercontent.com (raw.githubusercontent.com)... 185.199.108.133, 185.199.109.133, 185.199.110.133, ...\n",
      "Connecting to raw.githubusercontent.com (raw.githubusercontent.com)|185.199.108.133|:443... connected.\n",
      "HTTP request sent, awaiting response... 200 OK\n",
      "Length: 21357789 (20M) [text/plain]\n",
      "Saving to: ‘glove.6B.50d.50K.txt’\n",
      "\n",
      "glove.6B.50d.50K.tx 100%[===================>]  20.37M  --.-KB/s    in 0.06s   \n",
      "\n",
      "2022-02-06 18:37:45 (358 MB/s) - ‘glove.6B.50d.50K.txt’ saved [21357789/21357789]\n",
      "\n"
     ]
    }
   ],
   "source": [
    "!wget https://raw.githubusercontent.com/dbamman/nlp22/main/HW3/train.txt\n",
    "!wget https://raw.githubusercontent.com/dbamman/nlp22/main/HW3/dev.txt\n",
    "!wget https://raw.githubusercontent.com/dbamman/nlp22/main/HW3/glove.6B.50d.50K.txt"
   ]
  },
  {
   "cell_type": "code",
   "execution_count": 8,
   "metadata": {
    "id": "vC5tWWn2mWhH"
   },
   "outputs": [],
   "source": [
    "trainingFile = \"train.txt\"\n",
    "devFile = \"dev.txt\""
   ]
  },
  {
   "cell_type": "code",
   "execution_count": 9,
   "metadata": {
    "id": "q_vLcPzzIxDw"
   },
   "outputs": [],
   "source": [
    "labels = {'pos': 0, 'neg': 1}"
   ]
  },
  {
   "cell_type": "code",
   "execution_count": 10,
   "metadata": {
    "id": "sNb4H1auI4lA"
   },
   "outputs": [],
   "source": [
    "def get_batches(x, y, xType, batch_size=12):\n",
    "    batches_x=[]\n",
    "    batches_y=[]\n",
    "    for i in range(0, len(x), batch_size):\n",
    "        batches_x.append(xType(x[i:i+batch_size]))\n",
    "        batches_y.append(torch.LongTensor(y[i:i+batch_size]))\n",
    "    \n",
    "    return batches_x, batches_y\n",
    "        "
   ]
  },
  {
   "cell_type": "code",
   "execution_count": 11,
   "metadata": {
    "id": "SnIbufFHlYSx"
   },
   "outputs": [],
   "source": [
    "PAD_INDEX = 0             # reserved for padding words\n",
    "UNKNOWN_INDEX = 1         # reserved for unknown words\n",
    "SEP_INDEX = 2\n",
    "\n",
    "data_lens = []\n",
    "\n",
    "def read_embeddings(filename, vocab_size=50000):\n",
    "  \"\"\"\n",
    "  Utility function, loads in the `vocab_size` most common embeddings from `filename`\n",
    "  \n",
    "  Arguments:\n",
    "  - filename:     path to file\n",
    "                  automatically infers correct embedding dimension from filename\n",
    "  - vocab_size:   maximum number of embeddings to load\n",
    "\n",
    "  Returns \n",
    "  - embeddings:   torch.FloatTensor matrix of size (vocab_size x word_embedding_dim)\n",
    "  - vocab:        dictionary mapping word (str) to index (int) in embedding matrix\n",
    "  \"\"\"\n",
    "\n",
    "  # get the embedding size from the first embedding\n",
    "  with open(filename, encoding=\"utf-8\") as file:\n",
    "    word_embedding_dim = len(file.readline().split(\" \")) - 1\n",
    "\n",
    "  vocab = {}\n",
    "\n",
    "  embeddings = np.zeros((vocab_size, word_embedding_dim))\n",
    "  with open(filename, encoding=\"utf-8\") as file:\n",
    "    for idx, line in enumerate(file):\n",
    "\n",
    "      if idx + 2 >= vocab_size:\n",
    "        break\n",
    "\n",
    "      cols = line.rstrip().split(\" \")\n",
    "      val = np.array(cols[1:])\n",
    "      word = cols[0]\n",
    "      embeddings[idx + 2] = val\n",
    "      vocab[word] = idx + 2\n",
    "  \n",
    "  # a FloatTensor is a multidimensional matrix\n",
    "  # that contains 32-bit floats in every entry\n",
    "  # https://pytorch.org/docs/stable/tensors.html\n",
    "  return torch.FloatTensor(embeddings), vocab"
   ]
  },
  {
   "cell_type": "markdown",
   "metadata": {
    "id": "PrBHMiLPIOKB"
   },
   "source": [
    "# Logistic regression\n",
    "\n",
    "First, let's code up logistic regression in pytorch so you can see how the general framework works, and also get a sense of its performance that we can compare a CNN against."
   ]
  },
  {
   "cell_type": "code",
   "execution_count": 12,
   "metadata": {
    "id": "392D8YLfI_K3"
   },
   "outputs": [],
   "source": [
    "class LogisticRegressionClassifier(nn.Module):\n",
    "\n",
    "   def __init__(self, input_dim, output_dim):\n",
    "      super().__init__()\n",
    "      self.linear = torch.nn.Linear(input_dim, output_dim)\n",
    " \n",
    "    \n",
    "   def forward(self, input): \n",
    "      x1 = self.linear(input)\n",
    "      return x1\n",
    "\n",
    "   def evaluate(self, x, y):\n",
    "\n",
    "      self.eval()\n",
    "      corr = 0.\n",
    "      total = 0.\n",
    "      with torch.no_grad():\n",
    "        for x, y in zip(x, y):\n",
    "          y_preds=self.forward(x)\n",
    "          for idx, y_pred in enumerate(y_preds):\n",
    "              prediction=torch.argmax(y_pred)\n",
    "              if prediction == y[idx]:\n",
    "                corr += 1.\n",
    "              total+=1                          \n",
    "      return corr/total\n"
   ]
  },
  {
   "cell_type": "markdown",
   "metadata": {
    "id": "sgaDKtOrc10l"
   },
   "source": [
    "## Example: Average Embedding Representation\n",
    "Let's train a logistic regression classifier where the input is the average GLoVE embedding for all words in a review."
   ]
  },
  {
   "cell_type": "code",
   "execution_count": 13,
   "metadata": {
    "id": "0YgU4027luO3"
   },
   "outputs": [],
   "source": [
    "def read_glove_data(filename, vocab, embs):\n",
    "    data=[]\n",
    "    data_labels=[]\n",
    "    with open(filename) as file:\n",
    "        for line in file:\n",
    "            avg_emb=np.zeros(50)\n",
    "            cols=line.rstrip().split(\"\\t\")\n",
    "            idd = cols[0]\n",
    "            label = cols[1]\n",
    "            review = cols[2]\n",
    "            words=nltk.word_tokenize(review)\n",
    "            avg_counter = 0.\n",
    "            for word in words:\n",
    "                word=word.lower()\n",
    "                if word in glove_vocab:\n",
    "                    avg_emb += embs[glove_vocab[word]].numpy()\n",
    "                    avg_counter += 1.\n",
    "            avg_emb /= avg_counter\n",
    "\n",
    "            data.append(avg_emb)\n",
    "            data_labels.append(labels[label])\n",
    "    return data, data_labels \n"
   ]
  },
  {
   "cell_type": "code",
   "execution_count": 14,
   "metadata": {
    "id": "JYb1iVsqb0Le"
   },
   "outputs": [],
   "source": [
    "embs, glove_vocab = read_embeddings(\"glove.6B.50d.50K.txt\")\n",
    "avg_train_x, avg_train_y=read_glove_data(trainingFile, glove_vocab, embs)\n",
    "avg_dev_x, avg_dev_y=read_glove_data(devFile, glove_vocab, embs)"
   ]
  },
  {
   "cell_type": "code",
   "execution_count": 15,
   "metadata": {
    "colab": {
     "base_uri": "https://localhost:8080/"
    },
    "id": "-FeYYf7-c01Z",
    "outputId": "f7476193-4073-4109-b072-745d88230aa0"
   },
   "outputs": [
    {
     "name": "stderr",
     "output_type": "stream",
     "text": [
      "/usr/local/lib/python3.7/dist-packages/ipykernel_launcher.py:5: UserWarning: Creating a tensor from a list of numpy.ndarrays is extremely slow. Please consider converting the list to a single numpy.ndarray with numpy.array() before converting to a tensor. (Triggered internally at  ../torch/csrc/utils/tensor_new.cpp:201.)\n",
      "  \"\"\"\n"
     ]
    }
   ],
   "source": [
    "avg_trainX, avg_trainY=get_batches(avg_train_x, avg_train_y, xType=torch.FloatTensor)\n",
    "avg_devX, avg_devY=get_batches(avg_dev_x, avg_dev_y, xType=torch.FloatTensor)"
   ]
  },
  {
   "cell_type": "code",
   "execution_count": 16,
   "metadata": {
    "colab": {
     "base_uri": "https://localhost:8080/"
    },
    "id": "Duzn0vCrdR5X",
    "outputId": "86eb3151-3df5-4a3c-b53a-00bfe9ee55e8"
   },
   "outputs": [
    {
     "name": "stdout",
     "output_type": "stream",
     "text": [
      "Epoch 0, dev accuracy: 0.649\n",
      "Epoch 5, dev accuracy: 0.684\n",
      "Epoch 10, dev accuracy: 0.702\n",
      "Epoch 15, dev accuracy: 0.723\n",
      "Epoch 20, dev accuracy: 0.728\n",
      "Epoch 25, dev accuracy: 0.734\n",
      "Epoch 30, dev accuracy: 0.737\n",
      "Epoch 35, dev accuracy: 0.737\n",
      "Epoch 40, dev accuracy: 0.739\n",
      "Stopping training; no improvement on dev data after 10 epochs\n"
     ]
    }
   ],
   "source": [
    "logreg=LogisticRegressionClassifier(50, len(labels))\n",
    "optimizer = torch.optim.Adam(logreg.parameters(), lr=0.001, weight_decay=1e-5)\n",
    "losses = []\n",
    "cross_entropy=nn.CrossEntropyLoss()\n",
    "\n",
    "num_labels=len(labels)\n",
    "\n",
    "patience=10\n",
    "maxDevAccuracy=0\n",
    "patienceCounter=0\n",
    "\n",
    "for epoch in range(200):\n",
    "    logreg.train()\n",
    "    \n",
    "    for x, y in zip(avg_trainX, avg_trainY):\n",
    "        y_pred=logreg.forward(x)\n",
    "        loss = cross_entropy(y_pred.view(-1, num_labels), y.view(-1))\n",
    "        losses.append(loss)\n",
    "        optimizer.zero_grad()\n",
    "        loss.backward()\n",
    "        optimizer.step()\n",
    "\n",
    "    dev_accuracy=logreg.evaluate(avg_devX, avg_devY)\n",
    "    \n",
    "    # check if the dev accuracy is the best seen so far\n",
    "    if dev_accuracy > maxDevAccuracy:\n",
    "        maxDevAccuracy=dev_accuracy\n",
    "        patienceCounter=0\n",
    "    \n",
    "    patienceCounter+=1\n",
    "    \n",
    "    if epoch % 5 == 0:\n",
    "        print(\"Epoch %s, dev accuracy: %.3f\" % (epoch, dev_accuracy))\n",
    "    if patienceCounter >= patience:\n",
    "        print(\"Stopping training; no improvement on dev data after %s epochs\" % patience)\n",
    "        break"
   ]
  },
  {
   "cell_type": "markdown",
   "metadata": {
    "id": "ObjO1BiXc_nY"
   },
   "source": [
    "# Deliverable 1. BOW Representation\n",
    "Your last homework used sklearn for logistic regression classification using a bag-of-words representation. Here you'll do the same thing, but in pytorch.  Fill in a bag-of-words implementation into read_bow_data() to see how the logistic classifier model works with this different featurization. "
   ]
  },
  {
   "cell_type": "code",
   "execution_count": 17,
   "metadata": {
    "id": "0r3LM0mKDxVP"
   },
   "outputs": [],
   "source": [
    "# This function creates a unigram vocabulary from the most frequent 10K words in the training data\n",
    "def get_vocab(filename, max_words=10000):\n",
    "    unigram_counts=Counter()\n",
    "    with open(filename) as file:    \n",
    "        for line in file:\n",
    "            cols=line.rstrip().split(\"\\t\")\n",
    "            idd = cols[0]\n",
    "            label = cols[1]\n",
    "            review = cols[2]\n",
    "            words=nltk.word_tokenize(review)\n",
    "\n",
    "            for word in words:\n",
    "                word=word.lower()\n",
    "                unigram_counts[word]+=1\n",
    "\n",
    "    vocab={}\n",
    "    for k,v in unigram_counts.most_common(max_words):\n",
    "        vocab[k]=len(vocab)\n",
    "    return vocab\n",
    "        "
   ]
  },
  {
   "cell_type": "code",
   "execution_count": 18,
   "metadata": {
    "id": "huWSY2FNlqrF"
   },
   "outputs": [],
   "source": [
    "def read_bow_data(filename, vocab):\n",
    "    data=[]\n",
    "    data_labels=[]\n",
    "    with open(filename) as file:\n",
    "        for line in file:\n",
    "            cols=line.rstrip().split(\"\\t\")\n",
    "            idd = cols[0]\n",
    "            label = cols[1]\n",
    "            review = cols[2]\n",
    "            bow=np.zeros(len(vocab))\n",
    "\n",
    "            '''\n",
    "            Add your bow code here to store the featurization in the bow variable. \n",
    "            \n",
    "            '''\n",
    "            words=nltk.word_tokenize(review)\n",
    "            for word in words:\n",
    "                word = word.lower()\n",
    "                if word in vocab:\n",
    "                    bow[vocab[word]] = 1\n",
    "\n",
    "            data.append(bow)\n",
    "\n",
    "            data_labels.append(labels[label])\n",
    "    return data, data_labels \n"
   ]
  },
  {
   "cell_type": "code",
   "execution_count": 19,
   "metadata": {
    "id": "tc9ZGJvWImkA"
   },
   "outputs": [],
   "source": [
    "bow_vocab=get_vocab(trainingFile)\n",
    "bow_train_x, bow_train_y=read_bow_data(trainingFile, bow_vocab)\n",
    "bow_dev_x, bow_dev_y=read_bow_data(devFile, bow_vocab)"
   ]
  },
  {
   "cell_type": "code",
   "execution_count": 20,
   "metadata": {
    "id": "LFucMsZII8Hb"
   },
   "outputs": [],
   "source": [
    "bow_trainX, bow_trainY=get_batches(bow_train_x, bow_train_y, xType=torch.FloatTensor)\n",
    "bow_devX, bow_devY=get_batches(bow_dev_x, bow_dev_y, xType=torch.FloatTensor)"
   ]
  },
  {
   "cell_type": "code",
   "execution_count": 21,
   "metadata": {
    "colab": {
     "base_uri": "https://localhost:8080/"
    },
    "id": "byr4SJB1JCDO",
    "outputId": "8bba7118-4def-4d87-c00e-32c6f4780f38"
   },
   "outputs": [
    {
     "name": "stdout",
     "output_type": "stream",
     "text": [
      "Epoch 0, dev accuracy: 0.844\n",
      "Epoch 5, dev accuracy: 0.870\n",
      "Epoch 10, dev accuracy: 0.859\n",
      "Stopping training; no improvement on dev data after 10 epochs\n",
      "\n",
      "Best Performing Model achieves dev accuracy of : 0.870\n"
     ]
    }
   ],
   "source": [
    "logreg=LogisticRegressionClassifier(len(bow_vocab), len(labels))\n",
    "optimizer = torch.optim.Adam(logreg.parameters(), lr=0.001, weight_decay=1e-5)\n",
    "losses = []\n",
    "cross_entropy=nn.CrossEntropyLoss()\n",
    "best_dev_acc = 0.\n",
    "\n",
    "num_labels=len(labels)\n",
    "\n",
    "patience=10\n",
    "patienceCounter=0\n",
    "\n",
    "for epoch in range(200):\n",
    "    for x, y in zip(bow_trainX, bow_trainY):\n",
    "        y_pred=logreg.forward(x)\n",
    "        loss = cross_entropy(y_pred.view(-1, num_labels), y.view(-1))\n",
    "        losses.append(loss)\n",
    "        optimizer.zero_grad()\n",
    "        loss.backward()\n",
    "        optimizer.step()\n",
    "    dev_accuracy=logreg.evaluate(bow_devX, bow_devY)\n",
    "            \n",
    "    if epoch % 5 == 0:\n",
    "        print(\"Epoch %s, dev accuracy: %.3f\" % (epoch, dev_accuracy))\n",
    "\n",
    "    # check if the dev accuracy is the best seen so far; save the model if so\n",
    "    if dev_accuracy > best_dev_acc:\n",
    "      torch.save(logreg.state_dict(), 'best-bowmodel-parameters.pt')\n",
    "      best_dev_acc = dev_accuracy\n",
    "      patienceCounter=0\n",
    "\n",
    "    patienceCounter+=1\n",
    "    if patienceCounter >= patience:\n",
    "        print(\"Stopping training; no improvement on dev data after %s epochs\" % patience)\n",
    "        break\n",
    "    \n",
    "logreg.load_state_dict(torch.load('best-bowmodel-parameters.pt'))\n",
    "print(\"\\nBest Performing Model achieves dev accuracy of : %.3f\" % (best_dev_acc))    "
   ]
  },
  {
   "cell_type": "markdown",
   "metadata": {
    "id": "bbHrmE4jJQrT"
   },
   "source": [
    "# Deliverable 2. CNN \n",
    "\n",
    "Now let's create our CNN."
   ]
  },
  {
   "cell_type": "code",
   "execution_count": 22,
   "metadata": {
    "id": "9YhST7BOJPoG"
   },
   "outputs": [],
   "source": [
    "def read_data(filename, vocab, labels):\n",
    "    \"\"\"\n",
    "    :param filename: the name of the file\n",
    "    :return: list of tuple ([word index list], label)\n",
    "    as input for the forward and backward function\n",
    "    \"\"\"    \n",
    "    data = []\n",
    "    data_labels = []\n",
    "    file = open(filename)\n",
    "    for line in file:\n",
    "        cols = line.split(\"\\t\")\n",
    "        idd = cols[0]\n",
    "        label = cols[1]\n",
    "        review = cols[2]\n",
    "        w_int = []\n",
    "        for w in nltk.word_tokenize(review.lower()):\n",
    "            if w in vocab:\n",
    "                w_int.append(vocab[w])\n",
    "            else:\n",
    "                w_int.append(UNKNOWN_INDEX)\n",
    "        data_lens.append(len(w_int))\n",
    "        if len(w_int) < 549:\n",
    "            w_int.extend([PAD_INDEX] * (549 - len(w_int)))\n",
    "        if len(w_int) < 550:\n",
    "          data.append((w_int))\n",
    "          data_labels.append(labels[label])\n",
    "    file.close()\n",
    "    return data, data_labels\n"
   ]
  },
  {
   "cell_type": "code",
   "execution_count": 23,
   "metadata": {
    "id": "9sB60ratJZvB"
   },
   "outputs": [],
   "source": [
    "embs, cnn_vocab = read_embeddings(\"glove.6B.50d.50K.txt\")"
   ]
  },
  {
   "cell_type": "code",
   "execution_count": 24,
   "metadata": {
    "id": "hStl2tmiJesV"
   },
   "outputs": [],
   "source": [
    "cnn_train_x, cnn_train_y = read_data(trainingFile, cnn_vocab, labels)\n",
    "cnn_dev_x, cnn_dev_y = read_data(devFile, cnn_vocab, labels)"
   ]
  },
  {
   "cell_type": "code",
   "execution_count": 25,
   "metadata": {
    "id": "gZNvT-REJgv1"
   },
   "outputs": [],
   "source": [
    "cnn_trainX, cnn_trainY=get_batches(cnn_train_x, cnn_train_y, torch.LongTensor)\n",
    "cnn_devX, cnn_devY=get_batches(cnn_dev_x, cnn_dev_y, torch.LongTensor)"
   ]
  },
  {
   "cell_type": "code",
   "execution_count": 26,
   "metadata": {
    "id": "LDGz8mqdJjic"
   },
   "outputs": [],
   "source": [
    "import pdb; \n",
    "class CNNClassifier(nn.Module):\n",
    "\n",
    "   def __init__(self, params, pretrained_embeddings):\n",
    "      super().__init__()\n",
    "      self.seq_len = params[\"max_seq_len\"]#549\n",
    "      self.num_labels = params[\"label_length\"]#2\n",
    "      '''\n",
    "      Initialize the following layers according to the hw spec\n",
    "      '''\n",
    "      self.embeddings = nn.Embedding.from_pretrained(pretrained_embeddings)#5000,50\n",
    "\n",
    "      # convolution over 1 word\n",
    "      self.conv_1 = torch.nn.Conv1d(in_channels=50,out_channels=50,kernel_size=1)\n",
    "\n",
    "      # convolution over 2 words    \n",
    "      self.conv_2 = torch.nn.Conv1d(in_channels=50,out_channels=50,kernel_size=2)\n",
    "        \n",
    "      # convolution over 3 words\n",
    "      self.conv_3 = torch.nn.Conv1d(in_channels=50,out_channels=50,kernel_size=3,padding=1)\n",
    "        \n",
    "      self.fc = torch.nn.Linear(150,self.num_labels)\n",
    "\n",
    "    \n",
    "   def forward(self, input): \n",
    "      #print(input.shape)#[12,549], number of reviews, number of words for each review\n",
    "      #embeds the input sequences\n",
    "      x0 = self.embeddings(input)#[12, 549, 50]\n",
    "      #changes dimensions to be consistent with conv1d\n",
    "      x0 = x0.permute(0, 2, 1)#[12, 50, 549]\n",
    "\n",
    "      '''\n",
    "      Create the hidden representations according to the hw spec\n",
    "      '''\n",
    "\n",
    "      # Apply the one-word convolution, tanh, and max pool\n",
    "      x1 = self.conv_1(x0)\n",
    "      #print(x1.shape)#[12,50,549]\n",
    "      x1 = torch.tanh(x1)\n",
    "      x1 = torch.nn.functional.max_pool1d(x1,kernel_size=x1.shape[2],stride=1)\n",
    "      #print(x1.shape)#[12,50,1]\n",
    "      #pdb.set_trace()\n",
    "\n",
    "      # Apply the two-word convolution, tanh, and max pool\n",
    "      x2 = self.conv_2(x0)\n",
    "      #print(x2.shape)#[12,50,548]\n",
    "      x2 = torch.tanh(x2)\n",
    "      x2 = torch.nn.functional.max_pool1d(x2,kernel_size=x2.shape[2],stride=1)\n",
    "      #print(x2.shape)#[12,50,1]\n",
    "\n",
    "      # Apply the three-word convolution, tanh, and max pool\n",
    "      x3 = self.conv_3(x0)\n",
    "      #print(x3.shape)#[12,50,549]\n",
    "      x3 = torch.tanh(x3)\n",
    "      x3 = torch.nn.functional.max_pool1d(x3,kernel_size=x3.shape[2],stride=1)\n",
    "      #print(x3.shape)#[12,50,1]\n",
    "\n",
    "      # Concatenates the output of all 3 convolution layers\n",
    "      combined = torch.concat((x1,x2,x3),1).permute(0, 2, 1)\n",
    "      #print(combined.shape)#[12,1,150]\n",
    "\n",
    "      # Connects the combined output to the fully-connected layer\n",
    "      out = self.fc(combined)#[12,1,2]\n",
    "      #print(out.shape,out.squeeze().shape)\n",
    "      return out.squeeze()\n",
    "\n",
    "\n",
    "   def evaluate(self, x, y):\n",
    "      \n",
    "      self.eval()\n",
    "      corr = 0.\n",
    "      total = 0.\n",
    "\n",
    "      with torch.no_grad():\n",
    "\n",
    "        for x, y in zip(x, y):\n",
    "          y_preds=self.forward(x)\n",
    "          for idx, y_pred in enumerate(y_preds):\n",
    "              prediction=torch.argmax(y_pred)\n",
    "              if prediction == y[idx]:\n",
    "                corr += 1.\n",
    "              total+=1                          \n",
    "      return corr/total\n"
   ]
  },
  {
   "cell_type": "code",
   "execution_count": 27,
   "metadata": {
    "colab": {
     "base_uri": "https://localhost:8080/"
    },
    "id": "DxrBo0N0JlGM",
    "outputId": "45cb6499-dbc1-4a07-ca0b-af41ecfa13f5"
   },
   "outputs": [
    {
     "name": "stdout",
     "output_type": "stream",
     "text": [
      "Epoch 0, dev accuracy: 0.772\n",
      "Epoch 1, dev accuracy: 0.801\n",
      "Epoch 2, dev accuracy: 0.800\n",
      "Epoch 3, dev accuracy: 0.804\n",
      "Epoch 4, dev accuracy: 0.811\n",
      "Epoch 5, dev accuracy: 0.814\n",
      "Epoch 6, dev accuracy: 0.821\n",
      "Epoch 7, dev accuracy: 0.816\n",
      "Epoch 8, dev accuracy: 0.811\n",
      "Epoch 9, dev accuracy: 0.806\n",
      "Epoch 10, dev accuracy: 0.797\n",
      "Epoch 11, dev accuracy: 0.786\n",
      "Epoch 12, dev accuracy: 0.763\n",
      "Epoch 13, dev accuracy: 0.757\n",
      "Epoch 14, dev accuracy: 0.769\n",
      "\n",
      "Best Performing Model achieves dev accuracy of : 0.821\n"
     ]
    }
   ],
   "source": [
    "# Running this cell should take ~2 minutes.\n",
    "embs, cnn_vocab = read_embeddings(\"glove.6B.50d.50K.txt\")\n",
    "cnnmodel = CNNClassifier(params={\"max_seq_len\": 549, \"label_length\": len(labels)}, pretrained_embeddings=embs)\n",
    "optimizer = torch.optim.Adam(cnnmodel.parameters(), lr=0.001, weight_decay=1e-5)\n",
    "losses = []\n",
    "cross_entropy=nn.CrossEntropyLoss()\n",
    "\n",
    "num_epochs=15\n",
    "best_dev_acc = 0.\n",
    "patience=10\n",
    "\n",
    "\n",
    "for epoch in range(num_epochs):\n",
    "    cnnmodel.train()\n",
    "\n",
    "    for x, y in zip(cnn_trainX, cnn_trainY):\n",
    "      y_pred = cnnmodel.forward(x)\n",
    "      loss = cross_entropy(y_pred.view(-1, cnnmodel.num_labels), y.view(-1))\n",
    "      losses.append(loss) \n",
    "      optimizer.zero_grad()\n",
    "      loss.backward()\n",
    "      optimizer.step()\n",
    "    dev_accuracy=cnnmodel.evaluate(cnn_devX, cnn_devY)\n",
    "   \n",
    "    # check if the dev accuracy is the best seen so far; save the model if so\n",
    "    print(\"Epoch %s, dev accuracy: %.3f\" % (epoch, dev_accuracy))\n",
    "    if dev_accuracy > best_dev_acc:\n",
    "      torch.save(cnnmodel.state_dict(), 'best-cnnmodel-parameters.pt')\n",
    "      best_dev_acc = dev_accuracy\n",
    "      patienceCounter=0\n",
    "        \n",
    "    patienceCounter+=1\n",
    "    if patienceCounter >= patience:\n",
    "        print(\"Stopping training; no improvement on dev data after %s epochs\" % patience)\n",
    "        break\n",
    "\n",
    "    \n",
    "cnnmodel.load_state_dict(torch.load('best-cnnmodel-parameters.pt'))\n",
    "print(\"\\nBest Performing Model achieves dev accuracy of : %.3f\" % (best_dev_acc))\n"
   ]
  },
  {
   "cell_type": "markdown",
   "metadata": {
    "id": "8j5kM7T5T69d"
   },
   "source": [
    "# Model Exploration"
   ]
  },
  {
   "cell_type": "markdown",
   "metadata": {
    "id": "j7u2MerXT9fb"
   },
   "source": [
    "## CNN Loss Examination\n",
    "To debug your model and ensure it is updating correctly, it may be helpful to visualize your training loss.  The following code plots loss over epoch.  This should decrease as the model trains and eventually converge.  If your training loss is not decreasing, you might not be initializing your model or creating your forward() pass correctly."
   ]
  },
  {
   "cell_type": "code",
   "execution_count": 28,
   "metadata": {
    "colab": {
     "base_uri": "https://localhost:8080/",
     "height": 280
    },
    "id": "0W1WDYkfrdLX",
    "outputId": "ee7cbda5-0675-4e7e-97b5-c81178fe58b2"
   },
   "outputs": [
    {
     "data": {
      "image/png": "[encoded data removed]",
      "text/plain": [
       "<Figure size 432x288 with 1 Axes>"
      ]
     },
     "metadata": {
      "needs_background": "light"
     },
     "output_type": "display_data"
    }
   ],
   "source": [
    "import matplotlib.pyplot as plt\n",
    "plt.plot(range(len(losses)), losses)\n",
    "plt.title(\"Training Loss over Time\")\n",
    "plt.show()"
   ]
  },
  {
   "cell_type": "markdown",
   "metadata": {
    "id": "nAW6FujgeUOb"
   },
   "source": [
    "# Deliverable 3. BoW vs. CNN.\n",
    "\n",
    "Compare and contrast the performance of your BoW representation and CNN. Did one model demonstrate a higher dev performance than the other? What do you see as the advantages of one model over the other that might lead to this performance difference on this data? Submit your <200 word answer to this question as a PDF on gradescope."
   ]
  },
  {
   "cell_type": "code",
   "execution_count": 28,
   "metadata": {
    "id": "GjQCNmnW_1nh"
   },
   "outputs": [],
   "source": []
  }
 ],
 "metadata": {
  "accelerator": "GPU",
  "colab": {
   "collapsed_sections": [],
   "name": "Copy of HW_3.ipynb",
   "provenance": []
  },
  "kernelspec": {
   "display_name": "Python 3",
   "language": "python",
   "name": "python3"
  },
  "language_info": {
   "codemirror_mode": {
    "name": "ipython",
    "version": 3
   },
   "file_extension": ".py",
   "mimetype": "text/x-python",
   "name": "python",
   "nbconvert_exporter": "python",
   "pygments_lexer": "ipython3",
   "version": "3.8.5"
  },
  "toc": {
   "base_numbering": 1,
   "nav_menu": {},
   "number_sections": true,
   "sideBar": true,
   "skip_h1_title": false,
   "title_cell": "Table of Contents",
   "title_sidebar": "Contents",
   "toc_cell": false,
   "toc_position": {},
   "toc_section_display": true,
   "toc_window_display": false
  },
  "varInspector": {
   "cols": {
    "lenName": 16,
    "lenType": 16,
    "lenVar": 40
   },
   "kernels_config": {
    "python": {
     "delete_cmd_postfix": "",
     "delete_cmd_prefix": "del ",
     "library": "var_list.py",
     "varRefreshCmd": "print(var_dic_list())"
    },
    "r": {
     "delete_cmd_postfix": ") ",
     "delete_cmd_prefix": "rm(",
     "library": "var_list.r",
     "varRefreshCmd": "cat(var_dic_list()) "
    }
   },
   "types_to_exclude": [
    "module",
    "function",
    "builtin_function_or_method",
    "instance",
    "_Feature"
   ],
   "window_display": false
  }
 },
 "nbformat": 4,
 "nbformat_minor": 1
}
